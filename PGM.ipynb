{
 "cells": [
  {
   "cell_type": "markdown",
   "metadata": {
    "pycharm": {
     "name": "#%% md\n"
    }
   },
   "source": [
    "Бурамбекова Аружан, 412 группа.\n",
    "Метод проекции градиента."
   ]
  },
  {
   "cell_type": "markdown",
   "metadata": {
    "pycharm": {
     "name": "#%% md\n"
    }
   },
   "source": [
    "### Задача выпуклой оптимизации\n",
    "\n",
    "Найти минимум функции на множестве: $\\min\\limits_{x \\in X}f(x)$, где $f(x)$ - выпуклая функция, $X \\subseteq \\mathbb{R}^n$ - выпуклое множество\n",
    "### Множество:  $X\\in\\mathbb{R}^n$, $n\\in\\{100, 200, 500, 1000\\}$\n",
    "1. $X$ симплекс\n",
    "2. $X$ сфера\n",
    "### Функция:     $f(x) = x^TAx - b^Tx$\n",
    "\n",
    "$А$ — случайная [0,L] матрица, в которой элементы равномерно распределены, и она регуляризована как $A - \\lambda_{\\min}(A)I$, где $I$ — единичная матрица."
   ]
  },
  {
   "cell_type": "markdown",
   "metadata": {
    "pycharm": {
     "name": "#%% md\n"
    }
   },
   "source": [
    "## Библиотеки"
   ]
  },
  {
   "cell_type": "code",
   "execution_count": 1,
   "metadata": {
    "pycharm": {
     "name": "#%%\n"
    }
   },
   "outputs": [],
   "source": [
    "import numpy as np\n",
    "from numpy import linalg\n",
    "%matplotlib inline\n",
    "import matplotlib.pyplot as plt\n",
    "from prettytable import PrettyTable"
   ]
  },
  {
   "cell_type": "markdown",
   "metadata": {
    "pycharm": {
     "name": "#%% md\n"
    }
   },
   "source": [
    "$$A=S^TDS$$\n",
    "S получается ортогонализацией Грамма-Шмидта из случайной матрицы, D задается явно ниже\n"
   ]
  },
  {
   "cell_type": "code",
   "execution_count": 2,
   "metadata": {
    "pycharm": {
     "name": "#%%\n"
    }
   },
   "outputs": [
    {
     "data": {
      "text/plain": [
       "True"
      ]
     },
     "execution_count": 2,
     "metadata": {},
     "output_type": "execute_result"
    }
   ],
   "source": [
    "# Размерность пространства\n",
    "n=500\n",
    "# Случайная матрица\n",
    "S0=np.random.randn(n,n)\n",
    "\n",
    "# Ортогонализация Грамма-Шмидта\n",
    "S=np.copy(S0)\n",
    "for i in range(n):\n",
    "    S[i] = np.copy(S0[i])\n",
    "    for j in range(i):\n",
    "        S[i] -= S[j] * np.dot(S[i], S[j]) / np.dot(S[j], S[j])\n",
    "    S[i] /= np.sqrt(np.dot(S[i], S[i]))\n",
    "\n",
    "# Проверяем ортогональность\n",
    "np.allclose(np.dot(S.T,S), np.eye(n))"
   ]
  },
  {
   "cell_type": "code",
   "execution_count": 3,
   "metadata": {
    "pycharm": {
     "name": "#%%\n"
    }
   },
   "outputs": [],
   "source": [
    "# Собственные числа матрицы A\n",
    "D=np.diag(np.linspace(1, 50, num = n))\n",
    "A=np.dot(S.T, np.dot(D, S))\n",
    "# Вектор b\n",
    "b=np.random.rand(n)"
   ]
  },
  {
   "cell_type": "markdown",
   "metadata": {
    "pycharm": {
     "name": "#%% md\n"
    }
   },
   "source": [
    "### Функция: $f(x)=\\frac{1}{2}x^TAx-b^Tx$"
   ]
  },
  {
   "cell_type": "code",
   "execution_count": 4,
   "metadata": {
    "pycharm": {
     "name": "#%%\n"
    }
   },
   "outputs": [],
   "source": [
    "# Градиент функции\n",
    "def grad(x):\n",
    "    return(np.dot(A, x) - b)"
   ]
  },
  {
   "cell_type": "code",
   "execution_count": 5,
   "metadata": {
    "pycharm": {
     "name": "#%%\n"
    }
   },
   "outputs": [],
   "source": [
    "# Функция\n",
    "def func(x):\n",
    "    return(0.5 * np.dot(x.T, np.dot(A, x))-np.dot(b, x))"
   ]
  },
  {
   "cell_type": "markdown",
   "metadata": {
    "pycharm": {
     "name": "#%% md\n"
    }
   },
   "source": [
    "### Проекция на S:     $S=B^{||\\cdot||_2}_1(0)$"
   ]
  },
  {
   "cell_type": "code",
   "execution_count": 6,
   "metadata": {
    "pycharm": {
     "name": "#%%\n"
    }
   },
   "outputs": [],
   "source": [
    "def p(x):\n",
    "    norm = linalg.norm(x)\n",
    "    if norm <= 1:\n",
    "        return(x)\n",
    "    else:\n",
    "        return(x / norm)\n",
    "def dist(x):\n",
    "    return(linalg.norm(x - p(x)))"
   ]
  },
  {
   "cell_type": "markdown",
   "metadata": {
    "pycharm": {
     "name": "#%% md\n"
    }
   },
   "source": [
    "### Графики "
   ]
  },
  {
   "cell_type": "code",
   "execution_count": 7,
   "metadata": {
    "pycharm": {
     "name": "#%%\n"
    }
   },
   "outputs": [],
   "source": [
    "def pgd(x):\n",
    "    y = np.zeros((len(x)))\n",
    "    x_dist = np.zeros((len(x)))\n",
    "    step = np.zeros((len(x)))\n",
    "    table = PrettyTable()\n",
    "    table.field_names = ['i', 'a', 'x[i]', 'func(x[i])', 'dist(x[i])']\n",
    "\n",
    "    for i in range(len(x)):\n",
    "        y[i] = func(x[i])\n",
    "        x_dist[i] = linalg.norm(x[i]-p(x[i]))\n",
    "        \n",
    "        if i >= 1:\n",
    "            step[i] = linalg.norm(x[i] - x[i - 1])\n",
    "        \n",
    "        if i == 1 or i == len(x)-1:\n",
    "            table.add_row([i, step[i], x[i],  y[i],  x_dist[i]]) \n",
    "        \n",
    "    imin = np.argmin(y)\n",
    "    y -= func(x[imin])\n",
    "    \n",
    "    x_diff_norm = linalg.norm(x[:]-x[imin], axis=1)\n",
    "\n",
    "    ms = 3\n",
    "    \n",
    "    print(\"Best: \" + str(imin) + \" f = \" + str(func(x[imin])))\n",
    "    print (\"Last: \" + str(len(x)))\n",
    "    \n",
    "    plt.figure(figsize=(10,10))\n",
    "    plt.subplot(3, 1, 1)\n",
    "    plt.plot(x_diff_norm, 'g.', label=r\"$||x_i-x_{best}||$\", ms=ms)\n",
    "    plt.legend(loc='upper right', fontsize=18)\n",
    "    plt.ylabel('Скорость сходимости', fontsize=10)\n",
    "    \n",
    "    plt.subplot(3, 1, 2)\n",
    "    plt.plot(step, 'b.', label=r\"$||x_i-x_{i-1}||$\", ms=ms)\n",
    "    plt.legend(loc='upper right', fontsize=18)\n",
    "    plt.ylabel('Скорость сходимости', fontsize=10)\n",
    "    \n",
    "    plt.subplot(3, 1, 3)\n",
    "    plt.plot(y, 'r.', label=r\"$f(x_i)-f(x_{best})$\", ms=ms)\n",
    "    plt.legend(loc='upper right', fontsize=18)\n",
    "    plt.xlabel('Количество итераций, $i$', fontsize=25)\n",
    "    plt.ylabel('Скорость сходимости', fontsize=10)\n",
    "    \n",
    "    plt.show()\n",
    "\n",
    "    print(table)"
   ]
  },
  {
   "cell_type": "markdown",
   "metadata": {
    "pycharm": {
     "name": "#%% md\n"
    }
   },
   "source": [
    "### Правило Армихо(Требование достаточного убывания)\n",
    "Поиск шага по x, $\\alpha_0$, $\\theta$, $\\varepsilon$.\n",
    "\n",
    "Требование достаточного убывания гарантирует, что функция в точке $ f(x_k + \\alpha s_k)$\n",
    " не превосходит линейной аппроксимации с коэффициентом наклона $\\varepsilon$. Обычно коэффициент наклона выбирают в таких пределах: $\\varepsilon \\in (0, 0.3)$\n",
    "\n",
    "\n",
    "Задаем $0<\\varepsilon<1$, $0<\\theta<1$.\n",
    "\n",
    "Шаг 1. Проверяем, достаточно ли быстро уменьшается значение функции:\n",
    "        $$ f(x_k + \\alpha s_k) \\leq f(x_k) + \\varepsilon\\alpha<\\nabla f(x_k), s_k> $$\n",
    "\n",
    "Шаг 2. Если нет - уменьшаем $\\alpha_k = \\theta\\alpha$,\n",
    "        если да, заканчиваем,   $\\alpha_k = \\alpha$"
   ]
  },
  {
   "cell_type": "code",
   "execution_count": 8,
   "metadata": {
    "pycharm": {
     "name": "#%%\n"
    }
   },
   "outputs": [],
   "source": [
    "def step(x, a0, theta, eps):\n",
    "    a = a0\n",
    "    grad_norm_2 = np.linalg.norm(grad(x)) ** 2\n",
    "    while True:\n",
    "        x_new = x - a * grad(x)\n",
    "        if func(x_new) - func(x) + eps * a * grad_norm_2 < 0:\n",
    "            break\n",
    "        a *= theta\n",
    "    return a"
   ]
  },
  {
   "cell_type": "markdown",
   "metadata": {
    "pycharm": {
     "name": "#%% md\n"
    }
   },
   "source": [
    "## Метод проекции градиента\n",
    "Идея метода проекции градиента состоит в том, что если на некоторой итерации точка оказывается вне множества допустимых значений, то она возвращается на это множество. \n",
    "$$t_{k+1}=\\pi_{X}(x_k-\\alpha_k\\nabla f(x_k))$$\n",
    "$$x_{k+1}=(1-v)x_k+vt_{k+1}$$\n",
    "Шаг $\\alpha_k$ на каждой итерации будем выбирать по требованию достаточного убывания."
   ]
  },
  {
   "cell_type": "code",
   "execution_count": 9,
   "metadata": {
    "pycharm": {
     "name": "#%%\n"
    }
   },
   "outputs": [],
   "source": [
    "# Массив с точками\n",
    "x = list()\n",
    "x.append(np.zeros(n))\n",
    "i = 1\n",
    "\n",
    "# Выбор шага по Армихо, параметры\n",
    "a0 = 1\n",
    "theta = 0.1\n",
    "eps = 0.1\n",
    "\n",
    "# Условия остановки\n",
    "grad_norm=1e-7\n",
    "maxiter=300\n",
    "x_norm=1e-6\n",
    "\n",
    "v = 0.4\n",
    "\n",
    "while True:\n",
    "    x.append(0)\n",
    "    \n",
    "    a = step(x[i - 1], a0, theta, eps)\n",
    "    # Градиентный шаг\n",
    "    x[i] = x[i - 1] - a * grad(x[i - 1])\n",
    "    \n",
    "    #Проектирование\n",
    "    proj = np.copy(p(x[i]))\n",
    "    x[i] = (1 - v) * x[i - 1] + v * proj\n",
    "    vector = np.vectorize(np.float64)\n",
    "    x[i] = vector(x[i])\n",
    "    \n",
    "    norm_new = np.linalg.norm(grad(x[i]))\n",
    "   \n",
    "    \n",
    "    # Условия останова\n",
    "    if norm_new < grad_norm:\n",
    "        break\n",
    "    \n",
    "    if np.linalg.norm(proj - x[i - 1]) < x_norm:\n",
    "        break\n",
    "    \n",
    "    if i >= maxiter:\n",
    "        break\n",
    "    \n",
    "    i += 1"
   ]
  },
  {
   "cell_type": "code",
   "execution_count": 10,
   "metadata": {
    "pycharm": {
     "name": "#%%\n"
    }
   },
   "outputs": [
    {
     "name": "stdout",
     "output_type": "stream",
     "text": [
      "Best: 93 f = -5.597192002705201\n",
      "Last: 94\n"
     ]
    },
    {
     "data": {
      "image/png": "[encoded data removed]",
      "text/plain": [
       "<Figure size 720x720 with 3 Axes>"
      ]
     },
     "metadata": {
      "needs_background": "light"
     },
     "output_type": "display_data"
    },
    {
     "name": "stdout",
     "output_type": "stream",
     "text": [
      "+----+------------------------+-------------------------------------------------------------------+---------------------+------------+\n",
      "| i  |           a            |                                x[i]                               |      func(x[i])     | dist(x[i]) |\n",
      "+----+------------------------+-------------------------------------------------------------------+---------------------+------------+\n",
      "| 1  |  0.05125082202473527   |    [5.89671634e-04 3.41688624e-03 3.19239910e-04 1.58623413e-03   | -0.6224047106099924 |    0.0     |\n",
      "|    |                        |     2.20694526e-03 3.70188636e-03 1.02731081e-04 1.74915717e-03   |                     |            |\n",
      "|    |                        |     1.76630568e-03 2.65669902e-03 1.61365224e-03 3.96378673e-03   |                     |            |\n",
      "|    |                        |     3.44261540e-03 1.57036326e-03 3.37624128e-03 8.61579362e-04   |                     |            |\n",
      "|    |                        |     8.91554397e-04 1.48800331e-03 3.78867502e-03 3.72133138e-03   |                     |            |\n",
      "|    |                        |     1.33477081e-03 1.95440048e-03 3.12710225e-03 1.44267882e-04   |                     |            |\n",
      "|    |                        |     1.03814943e-03 7.20107028e-04 2.39642682e-03 3.03828118e-04   |                     |            |\n",
      "|    |                        |     4.09187455e-04 2.74446633e-03 1.82298892e-03 1.36059208e-03   |                     |            |\n",
      "|    |                        |     1.70255261e-03 3.42248376e-03 1.15042617e-03 4.15933055e-05   |                     |            |\n",
      "|    |                        |     2.64554703e-03 9.15925369e-04 2.59494134e-03 3.22022884e-03   |                     |            |\n",
      "|    |                        |     1.24176453e-03 3.78791414e-04 1.12947183e-03 7.40921946e-04   |                     |            |\n",
      "|    |                        |     1.47382474e-03 3.52997735e-03 2.79729194e-03 2.54714301e-03   |                     |            |\n",
      "|    |                        |     2.33648499e-03 2.81475201e-03 2.45687854e-03 1.76010517e-03   |                     |            |\n",
      "|    |                        |     3.82480613e-03 2.93536925e-03 3.22474732e-03 6.94883031e-04   |                     |            |\n",
      "|    |                        |     2.77108249e-03 1.66335704e-03 3.38022865e-03 1.13149704e-03   |                     |            |\n",
      "|    |                        |     5.03977688e-04 1.94927077e-03 5.76574598e-04 1.68218768e-03   |                     |            |\n",
      "|    |                        |     3.92120405e-03 3.34569873e-03 3.33677457e-03 2.05262101e-03   |                     |            |\n",
      "|    |                        |     1.99034218e-03 1.49770803e-03 3.32646097e-03 1.99757644e-03   |                     |            |\n",
      "|    |                        |     1.42515756e-03 3.87580596e-03 1.10553508e-04 9.73396255e-04   |                     |            |\n",
      "|    |                        |     3.22991633e-04 7.96955046e-04 4.47483272e-04 2.29077704e-03   |                     |            |\n",
      "|    |                        |     7.45996674e-04 2.64276600e-03 2.75739263e-03 1.25747251e-03   |                     |            |\n",
      "|    |                        |     2.90154614e-03 4.28562938e-04 2.02537803e-03 1.30756065e-03   |                     |            |\n",
      "|    |                        |     2.09065605e-03 2.13488050e-04 1.49144464e-03 2.17817397e-03   |                     |            |\n",
      "|    |                        |     2.29820318e-03 3.20398997e-03 4.80265524e-04 2.67555840e-03   |                     |            |\n",
      "|    |                        |     2.95645381e-03 5.38758219e-04 1.24155448e-03 3.82361492e-03   |                     |            |\n",
      "|    |                        |     2.20690894e-03 2.37264086e-03 2.79998427e-03 3.23179295e-03   |                     |            |\n",
      "|    |                        |     2.60462179e-03 1.13996284e-03 3.52523456e-03 1.88065411e-03   |                     |            |\n",
      "|    |                        |     1.94555917e-03 3.62643212e-03 1.58553406e-03 2.26667724e-03   |                     |            |\n",
      "|    |                        |     4.88158903e-04 1.55005802e-03 5.81981784e-04 2.43084492e-03   |                     |            |\n",
      "|    |                        |     3.71385721e-03 1.81694583e-03 3.10403477e-04 3.01503162e-03   |                     |            |\n",
      "|    |                        |     2.79607663e-04 1.06774127e-04 2.66139201e-03 1.78794258e-03   |                     |            |\n",
      "|    |                        |     2.60842006e-03 3.30012951e-03 3.84158294e-03 3.56509064e-03   |                     |            |\n",
      "|    |                        |     2.93538815e-03 3.39442436e-04 3.05990646e-03 9.90869539e-05   |                     |            |\n",
      "|    |                        |     2.45178864e-03 4.37010511e-04 2.28810288e-03 3.49215310e-03   |                     |            |\n",
      "|    |                        |     1.98416673e-04 1.82967210e-03 7.25357005e-04 8.08460396e-04   |                     |            |\n",
      "|    |                        |     3.37146234e-03 1.29343919e-03 2.70156169e-03 8.34033939e-04   |                     |            |\n",
      "|    |                        |     3.03462643e-03 1.82402310e-03 2.13940542e-03 5.68490836e-04   |                     |            |\n",
      "|    |                        |     3.73094043e-03 2.42545976e-03 3.39902381e-03 2.53033576e-03   |                     |            |\n",
      "|    |                        |     7.12976152e-04 9.67480939e-04 1.71549336e-03 7.89402104e-05   |                     |            |\n",
      "|    |                        |     2.81081429e-03 1.64778911e-03 3.03198779e-03 2.04532416e-03   |                     |            |\n",
      "|    |                        |     9.97716640e-04 2.87851319e-03 3.84518199e-03 2.19135807e-03   |                     |            |\n",
      "|    |                        |     1.61577417e-03 2.35219027e-03 6.95846149e-04 2.25347313e-03   |                     |            |\n",
      "|    |                        |     1.34798446e-03 7.99477096e-04 1.44198502e-03 1.44687409e-03   |                     |            |\n",
      "|    |                        |     3.57081145e-03 1.28104559e-03 1.34100330e-03 3.50796438e-03   |                     |            |\n",
      "|    |                        |     3.44457603e-03 1.00643558e-03 1.12888199e-03 2.38110270e-03   |                     |            |\n",
      "|    |                        |     9.05684235e-04 2.01944753e-03 1.01944180e-03 3.03381214e-03   |                     |            |\n",
      "|    |                        |     1.88836789e-03 2.75323612e-03 1.46410664e-03 3.52486745e-03   |                     |            |\n",
      "|    |                        |     3.01704969e-03 2.63702977e-03 3.53926205e-03 1.08322917e-03   |                     |            |\n",
      "|    |                        |     1.62087053e-03 2.63784466e-03 4.50029594e-06 1.76608299e-03   |                     |            |\n",
      "|    |                        |     1.56234082e-03 2.38334389e-03 6.75880403e-04 8.53869337e-04   |                     |            |\n",
      "|    |                        |     3.76404554e-03 7.87833951e-04 5.20570074e-04 5.79843762e-04   |                     |            |\n",
      "|    |                        |     6.88699321e-04 6.79430086e-04 4.14640769e-04 3.95036379e-03   |                     |            |\n",
      "|    |                        |     1.90187135e-03 1.83117726e-03 2.19569786e-03 3.43441926e-03   |                     |            |\n",
      "|    |                        |     3.07321294e-03 3.38856794e-03 2.83246190e-03 3.27540627e-03   |                     |            |\n",
      "|    |                        |     3.56207732e-03 3.11112086e-03 3.29777990e-04 3.49056907e-03   |                     |            |\n",
      "|    |                        |     2.92878236e-03 3.99332156e-03 2.98475315e-03 3.82069624e-03   |                     |            |\n",
      "|    |                        |     2.11292689e-03 2.52517137e-03 2.42176940e-03 2.96701809e-03   |                     |            |\n",
      "|    |                        |     1.74737016e-03 2.94142268e-03 9.18441705e-04 3.36659267e-03   |                     |            |\n",
      "|    |                        |     6.21841110e-04 1.16976343e-03 3.53384874e-03 6.60929540e-04   |                     |            |\n",
      "|    |                        |     3.30806177e-03 3.78220411e-03 3.54248886e-03 1.72160581e-03   |                     |            |\n",
      "|    |                        |     3.18777993e-04 3.30119354e-03 2.16102341e-03 3.09992669e-03   |                     |            |\n",
      "|    |                        |     1.08735095e-03 9.88565640e-04 3.32606432e-03 1.17310509e-03   |                     |            |\n",
      "|    |                        |     5.01238140e-04 1.57143274e-03 3.97134405e-03 5.31417164e-05   |                     |            |\n",
      "|    |                        |     1.07652040e-03 2.70840904e-03 5.92433052e-04 3.45677621e-03   |                     |            |\n",
      "|    |                        |     1.53906868e-03 1.68591561e-03 3.35271307e-03 8.29141908e-04   |                     |            |\n",
      "|    |                        |     2.80900292e-03 3.12226342e-03 1.28829969e-03 2.64269009e-03   |                     |            |\n",
      "|    |                        |     3.54383956e-03 3.06476857e-03 2.40026411e-03 3.71746400e-03   |                     |            |\n",
      "|    |                        |     2.57964922e-03 3.82055618e-03 3.37154803e-03 2.75482248e-03   |                     |            |\n",
      "|    |                        |     3.89765427e-03 7.42286610e-04 2.80735983e-04 1.84990901e-03   |                     |            |\n",
      "|    |                        |     8.40466702e-04 1.72984584e-03 3.70001770e-03 1.60830133e-03   |                     |            |\n",
      "|    |                        |     1.51162060e-03 9.98836072e-04 2.24784251e-04 2.26299933e-03   |                     |            |\n",
      "|    |                        |     1.91791729e-04 5.96082234e-04 1.02098471e-03 3.70827551e-03   |                     |            |\n",
      "|    |                        |     1.29474175e-03 3.63871759e-03 1.49247050e-04 2.96217525e-03   |                     |            |\n",
      "|    |                        |     3.16466575e-03 5.23418281e-04 1.45815910e-03 2.08466185e-03   |                     |            |\n",
      "|    |                        |     2.66147986e-03 7.97544614e-04 1.97519167e-03 5.11226643e-04   |                     |            |\n",
      "|    |                        |     2.78216724e-03 3.44359853e-03 3.33138564e-03 2.13949213e-03   |                     |            |\n",
      "|    |                        |     9.28255679e-04 1.39896245e-03 2.18617833e-03 1.74670097e-03   |                     |            |\n",
      "|    |                        |     1.81591612e-03 3.44327463e-03 1.26212253e-03 1.41089332e-03   |                     |            |\n",
      "|    |                        |     1.71882259e-03 2.13316934e-03 9.86465916e-04 2.27003359e-03   |                     |            |\n",
      "|    |                        |     3.34537827e-04 5.18605626e-05 2.14156986e-03 3.81365864e-03   |                     |            |\n",
      "|    |                        |     1.38346834e-03 3.41609227e-03 2.19428179e-03 3.07548530e-03   |                     |            |\n",
      "|    |                        |     3.45959875e-03 5.70338995e-04 3.64972269e-03 9.10886171e-06   |                     |            |\n",
      "|    |                        |     1.85958956e-04 1.89415961e-04 2.13083096e-03 2.83425087e-03   |                     |            |\n",
      "|    |                        |     3.73837240e-03 3.66467269e-03 1.32935289e-03 2.08647260e-03   |                     |            |\n",
      "|    |                        |     5.68764541e-04 2.29349865e-03 5.21329408e-04 1.51208956e-03   |                     |            |\n",
      "|    |                        |     1.46224140e-03 2.10248602e-03 3.60424347e-03 2.50315810e-03   |                     |            |\n",
      "|    |                        |     3.08032978e-04 2.80852362e-03 1.70658268e-03 7.33955439e-04   |                     |            |\n",
      "|    |                        |     4.94554861e-04 1.40561599e-03 3.12698356e-03 1.41146372e-03   |                     |            |\n",
      "|    |                        |     2.34821565e-03 9.03719471e-04 2.91601489e-03 2.83252757e-03   |                     |            |\n",
      "|    |                        |     1.80407554e-03 3.43753385e-03 1.35268516e-03 1.57958672e-03   |                     |            |\n",
      "|    |                        |     1.02968804e-03 3.31982091e-04 7.16230270e-04 2.29636514e-03   |                     |            |\n",
      "|    |                        |     6.68355279e-04 3.68732739e-03 8.86295959e-04 3.28264945e-03   |                     |            |\n",
      "|    |                        |     2.94147787e-03 1.09250990e-03 2.94168789e-03 2.19477322e-03   |                     |            |\n",
      "|    |                        |     2.95171688e-04 5.66034557e-04 3.25432818e-04 1.44380061e-03   |                     |            |\n",
      "|    |                        |     2.26644485e-03 1.52934327e-04 2.57453903e-03 2.46476558e-03   |                     |            |\n",
      "|    |                        |     3.02329844e-03 1.11879164e-03 2.24997249e-03 2.24471899e-03   |                     |            |\n",
      "|    |                        |     1.34755692e-03 1.13109973e-03 1.09047583e-03 7.70243801e-04   |                     |            |\n",
      "|    |                        |     1.52432998e-03 3.56566550e-03 1.82154390e-03 2.70643459e-03   |                     |            |\n",
      "|    |                        |     3.16184807e-03 1.07856974e-03 4.41945341e-04 2.95148326e-03   |                     |            |\n",
      "|    |                        |     2.96079195e-03 7.30304047e-05 2.39755490e-03 1.14849603e-03   |                     |            |\n",
      "|    |                        |     3.30109979e-03 1.51190793e-03 1.57744362e-03 6.14904213e-04   |                     |            |\n",
      "|    |                        |     3.36192269e-03 1.68509801e-03 3.31415224e-03 2.75555751e-03   |                     |            |\n",
      "|    |                        |     2.78637918e-03 2.35229674e-03 3.49818226e-03 1.39665749e-04   |                     |            |\n",
      "|    |                        |     2.61343305e-03 3.05700336e-03 1.06912982e-03 3.88070769e-03   |                     |            |\n",
      "|    |                        |     3.03562485e-03 2.96208840e-03 1.68910771e-03 3.16473984e-03   |                     |            |\n",
      "|    |                        |     1.03276533e-03 9.13293983e-04 4.19680694e-04 1.48337695e-03   |                     |            |\n",
      "|    |                        |     7.94583323e-04 3.19751182e-03 2.79860796e-03 3.13998353e-03   |                     |            |\n",
      "|    |                        |     1.71444092e-03 1.03625333e-03 1.51492325e-03 8.77829147e-04   |                     |            |\n",
      "|    |                        |     3.76972061e-03 2.57741549e-03 1.13430373e-03 4.19646254e-04   |                     |            |\n",
      "|    |                        |     6.38938021e-04 2.19845969e-04 1.83390396e-03 1.84807869e-03   |                     |            |\n",
      "|    |                        |     3.35172876e-03 3.47282189e-03 3.70393168e-03 3.72874799e-03   |                     |            |\n",
      "|    |                        |     1.20555979e-03 3.85263412e-03 1.69287747e-03 4.28057200e-05   |                     |            |\n",
      "|    |                        |     3.33289254e-04 1.77236605e-03 1.64279898e-03 1.37251135e-03   |                     |            |\n",
      "|    |                        |     2.86355150e-03 3.40689239e-03 1.20835852e-03 3.49283959e-03   |                     |            |\n",
      "|    |                        |     1.55089515e-03 6.25828095e-05 3.48596331e-03 2.69397734e-03   |                     |            |\n",
      "|    |                        |     1.52103523e-03 1.79304312e-03 2.95024187e-03 3.95756082e-04   |                     |            |\n",
      "|    |                        |     2.00932335e-03 3.43321937e-03 2.73305627e-03 1.33318669e-03   |                     |            |\n",
      "|    |                        |     2.25153543e-03 3.31518682e-03 3.10981680e-03 1.44692747e-03   |                     |            |\n",
      "|    |                        |     2.71626200e-04 1.38557988e-04 4.28404665e-04 1.84381932e-03   |                     |            |\n",
      "|    |                        |     2.16556438e-03 7.20205079e-04 5.94372954e-04 3.03431367e-03   |                     |            |\n",
      "|    |                        |     1.31349703e-03 2.42127614e-03 3.89065835e-03 3.44970407e-03   |                     |            |\n",
      "|    |                        |     1.89206503e-03 6.40926315e-04 1.12580416e-03 3.40241446e-03   |                     |            |\n",
      "|    |                        |     1.12346734e-03 2.94956788e-03 3.98205037e-03 9.90322070e-04   |                     |            |\n",
      "|    |                        |     1.56257687e-05 8.20230336e-04 3.37888630e-03 3.13126793e-03   |                     |            |\n",
      "|    |                        |    3.23564736e-03 8.99671905e-04 2.64036940e-03 3.46798170e-03]   |                     |            |\n",
      "| 93 | 3.8334191224167167e-07 |  [-3.85135044e-02  6.13916554e-02  2.36727087e-02 -2.29921712e-02 |  -5.597192002705201 |    0.0     |\n",
      "|    |                        |    2.62406419e-02  5.52214242e-02  8.01827696e-03  8.29900930e-03 |                     |            |\n",
      "|    |                        |    4.22269528e-02  3.69358703e-02 -6.56912508e-03  1.30243026e-01 |                     |            |\n",
      "|    |                        |    3.22300728e-02  2.88689522e-02  4.90638505e-02  6.00345213e-04 |                     |            |\n",
      "|    |                        |    4.22202507e-02  2.73528526e-02  7.42433962e-02  3.71929541e-02 |                     |            |\n",
      "|    |                        |   -2.10554461e-02  2.45890589e-02  6.75980576e-02 -1.21319205e-02 |                     |            |\n",
      "|    |                        |   -6.96333894e-03  3.56442133e-03  5.95280401e-02 -8.29628020e-02 |                     |            |\n",
      "|    |                        |    9.28797587e-03  4.99698118e-02  1.54975364e-02 -1.60940468e-02 |                     |            |\n",
      "|    |                        |    4.35184426e-02  1.61463156e-02  3.88161581e-02 -4.11886983e-02 |                     |            |\n",
      "|    |                        |    2.46992766e-02 -1.53436728e-02  2.87189709e-02  7.37651845e-02 |                     |            |\n",
      "|    |                        |   -2.28015275e-02  2.43029948e-02  8.15655846e-03 -5.80865950e-02 |                     |            |\n",
      "|    |                        |    4.47534448e-02  2.81495823e-02  3.74707000e-02 -4.82764760e-03 |                     |            |\n",
      "|    |                        |   -2.58934182e-02  7.02569125e-03  4.09068751e-02 -2.35335230e-02 |                     |            |\n",
      "|    |                        |   -4.11688562e-04  5.12487856e-02  4.67995108e-02  2.40195153e-02 |                     |            |\n",
      "|    |                        |    7.26784015e-02  5.67001798e-02  2.30909761e-02  9.72317320e-03 |                     |            |\n",
      "|    |                        |    3.20172565e-02  1.28858100e-02  4.09482121e-02  1.85690158e-03 |                     |            |\n",
      "|    |                        |    6.30213502e-02  2.36275206e-02  4.19532593e-02  3.67687118e-02 |                     |            |\n",
      "|    |                        |   -7.08221505e-03  1.81103593e-02  4.44061590e-02  4.41736025e-02 |                     |            |\n",
      "|    |                        |    4.15474248e-02  6.29070565e-02  1.51608516e-03  2.75548561e-02 |                     |            |\n",
      "|    |                        |   -2.86271625e-02  1.38610979e-02 -7.49756242e-03  4.47124177e-02 |                     |            |\n",
      "|    |                        |    4.69869466e-02  6.15306243e-02  2.40913900e-02  4.28091147e-02 |                     |            |\n",
      "|    |                        |    4.49250628e-02  5.45143404e-03  1.40908872e-02 -1.65861592e-02 |                     |            |\n",
      "|    |                        |    2.83545618e-02 -1.03126545e-02  6.06477525e-02  6.24975311e-02 |                     |            |\n",
      "|    |                        |    4.55453344e-03 -1.55522992e-03 -7.27287450e-03  4.37789728e-03 |                     |            |\n",
      "|    |                        |    6.47603300e-02  1.72775247e-03 -3.56266927e-02  9.30245016e-02 |                     |            |\n",
      "|    |                        |    3.84175533e-02 -2.26189759e-02  3.90295967e-02  5.92845419e-02 |                     |            |\n",
      "|    |                        |    4.60606537e-02 -4.23769806e-02  1.48555643e-01  2.51746613e-02 |                     |            |\n",
      "|    |                        |    1.48369003e-02  2.80837004e-02  1.96182891e-02  2.50884529e-02 |                     |            |\n",
      "|    |                        |    5.77021107e-03  3.10631710e-02 -5.55000060e-04  1.95112622e-02 |                     |            |\n",
      "|    |                        |    5.42866239e-02  1.18735822e-02  4.03277032e-02  4.96653644e-02 |                     |            |\n",
      "|    |                        |    5.48425108e-02 -1.06918680e-02  6.31448310e-02 -9.57692849e-03 |                     |            |\n",
      "|    |                        |   -5.58992932e-02  1.03636562e-01  6.36315466e-03  2.62456239e-02 |                     |            |\n",
      "|    |                        |    3.34564577e-02  2.64107721e-02  2.30636278e-02 -1.34546546e-02 |                     |            |\n",
      "|    |                        |    2.10301958e-02 -8.42348907e-04  4.58422425e-02  3.39772083e-02 |                     |            |\n",
      "|    |                        |    2.49507951e-02  5.68097953e-02  7.87322133e-02  7.02497444e-02 |                     |            |\n",
      "|    |                        |    3.50651421e-02  2.33351517e-02 -2.15524682e-02 -1.52593962e-02 |                     |            |\n",
      "|    |                        |    1.06613001e-01  5.66465449e-02  5.44423031e-02 -1.38096183e-02 |                     |            |\n",
      "|    |                        |    2.04264913e-02  8.57626845e-02  3.64234583e-02  2.68191650e-02 |                     |            |\n",
      "|    |                        |    1.37492900e-02  4.65834039e-02  3.31908661e-02 -2.22383194e-02 |                     |            |\n",
      "|    |                        |   -2.42880822e-03  4.81012224e-02  7.55587231e-02  2.22395034e-02 |                     |            |\n",
      "|    |                        |   -2.61875926e-02  5.31893022e-02  5.95446747e-02  4.06353951e-02 |                     |            |\n",
      "|    |                        |   -4.54439710e-03 -5.47222023e-02  8.31621988e-02  5.46420947e-02 |                     |            |\n",
      "|    |                        |    3.18891687e-02 -3.30278841e-02 -1.73600109e-02  1.01069433e-01 |                     |            |\n",
      "|    |                        |    4.60796166e-02  1.40180344e-02  2.48435702e-02  1.70631858e-02 |                     |            |\n",
      "|    |                        |    2.36040321e-02  1.20831256e-02  2.82573488e-02  4.48805360e-02 |                     |            |\n",
      "|    |                        |    4.18428228e-02 -1.45629764e-02 -7.81496233e-04  3.45078931e-02 |                     |            |\n",
      "|    |                        |   -1.84585344e-03  7.97215039e-02  3.78384119e-02  4.96623723e-02 |                     |            |\n",
      "|    |                        |    3.06254072e-02  7.88523267e-02  4.96307111e-02  7.65172534e-02 |                     |            |\n",
      "|    |                        |    2.25544424e-02 -9.16386643e-03 -3.97935142e-02  2.21086287e-02 |                     |            |\n",
      "|    |                        |   -5.35964803e-03  5.01766502e-02  1.09149019e-02 -1.51095851e-02 |                     |            |\n",
      "|    |                        |    6.13625373e-02  1.65625328e-02 -2.96128851e-02  1.38194878e-02 |                     |            |\n",
      "|    |                        |    4.51791824e-02  1.04855517e-02 -2.34994674e-03  5.76215281e-02 |                     |            |\n",
      "|    |                        |    1.02787011e-01  4.16057091e-02  8.42779678e-03  1.06429749e-01 |                     |            |\n",
      "|    |                        |    2.02899433e-02  3.18122211e-02  7.36022032e-02 -6.29328917e-03 |                     |            |\n",
      "|    |                        |    9.82284263e-03  6.23376645e-02  9.20723457e-02 -5.45854267e-03 |                     |            |\n",
      "|    |                        |    4.35212706e-02  3.70416654e-02  7.18954084e-02  4.70113245e-02 |                     |            |\n",
      "|    |                        |   -1.76951244e-02  4.73426892e-02 -5.24380063e-02  4.31614623e-02 |                     |            |\n",
      "|    |                        |    1.23400643e-02  4.39949238e-02  2.50522084e-02  1.56921499e-02 |                     |            |\n",
      "|    |                        |    4.00373040e-02  2.75939258e-02  1.04941665e-01 -2.20259660e-02 |                     |            |\n",
      "|    |                        |    5.07596922e-02  9.22173308e-02 -1.10650283e-02  3.44522193e-02 |                     |            |\n",
      "|    |                        |    2.61401884e-04  8.53911030e-02  1.43961541e-04  2.61489484e-02 |                     |            |\n",
      "|    |                        |    2.07237175e-02 -1.96873349e-02  2.25669992e-02  1.67870757e-02 |                     |            |\n",
      "|    |                        |   -6.55710456e-03  4.86024505e-02  7.97572220e-02  3.77815564e-02 |                     |            |\n",
      "|    |                        |    8.27327852e-02  5.92648128e-02 -2.19708022e-02  8.23808429e-02 |                     |            |\n",
      "|    |                        |    1.77313352e-02  1.52192977e-02  2.23220127e-02 -9.93890639e-03 |                     |            |\n",
      "|    |                        |    2.20473021e-02  2.32394491e-02 -1.72193706e-02 -1.13275919e-02 |                     |            |\n",
      "|    |                        |    5.35219055e-02  8.35735896e-02  3.91255437e-02  6.22005023e-02 |                     |            |\n",
      "|    |                        |    2.68377661e-02  6.92847015e-02  8.30991634e-02  5.65373859e-02 |                     |            |\n",
      "|    |                        |    9.76916960e-02  4.78861660e-02  1.35542675e-02  5.62297094e-02 |                     |            |\n",
      "|    |                        |    1.48141737e-02  2.11963736e-02  2.70205352e-02  2.40597804e-02 |                     |            |\n",
      "|    |                        |    1.87526369e-02  7.22158339e-02 -3.01301260e-02 -7.95055691e-03 |                     |            |\n",
      "|    |                        |   -3.18858549e-02 -2.01354219e-02  5.14764263e-02  2.74163599e-02 |                     |            |\n",
      "|    |                        |   -3.02427448e-03  7.32520120e-02  2.70227945e-02  3.43631187e-02 |                     |            |\n",
      "|    |                        |    1.00334873e-01  1.53988961e-02  6.52138023e-02 -1.01317656e-02 |                     |            |\n",
      "|    |                        |    5.56859517e-02 -3.34167213e-02  5.24789888e-02 -1.83160870e-02 |                     |            |\n",
      "|    |                        |    1.79405644e-02  6.88608356e-02  1.05134969e-01  2.46081630e-02 |                     |            |\n",
      "|    |                        |   -9.53411588e-03  5.35372803e-02  3.50827806e-02 -7.77585173e-03 |                     |            |\n",
      "|    |                        |    2.25449191e-02  1.75939624e-02 -3.54449919e-02 -3.68386639e-02 |                     |            |\n",
      "|    |                        |    2.14341114e-02  2.46151562e-02 -4.59239351e-02 -1.09783417e-02 |                     |            |\n",
      "|    |                        |    6.78703355e-02 -1.93023798e-02  5.34018035e-02  4.41718157e-02 |                     |            |\n",
      "|    |                        |   -3.02452010e-02  7.05809149e-02  2.67526534e-02  3.74490429e-02 |                     |            |\n",
      "|    |                        |    6.26335722e-02  9.02247952e-03  6.79574034e-02  1.30165000e-02 |                     |            |\n",
      "|    |                        |   -3.48033960e-02  5.02993758e-02  2.13432626e-03  2.61020781e-02 |                     |            |\n",
      "|    |                        |    1.01431198e-01  3.47762845e-02 -6.93394478e-03  8.14136183e-02 |                     |            |\n",
      "|    |                        |    1.72226909e-03  3.09947657e-02 -5.78626308e-03  7.02750465e-03 |                     |            |\n",
      "|    |                        |    1.55734168e-02  5.04670321e-02  1.84574357e-02  1.33273281e-01 |                     |            |\n",
      "|    |                        |    3.13605004e-02  1.32135767e-02  5.48721712e-02  8.50051609e-03 |                     |            |\n",
      "|    |                        |   -4.35742194e-02  7.52501067e-02  6.95737999e-02  1.67913554e-02 |                     |            |\n",
      "|    |                        |    6.24252776e-02  1.63192598e-02  7.53899409e-02  3.59437729e-02 |                     |            |\n",
      "|    |                        |    9.08676197e-02  6.78852247e-02  6.26298769e-02  4.97682579e-02 |                     |            |\n",
      "|    |                        |   -5.11546922e-03  3.42016961e-02  5.36330594e-03  3.31513273e-02 |                     |            |\n",
      "|    |                        |    6.83488842e-03  7.63954979e-02 -5.28010492e-03  1.35314413e-02 |                     |            |\n",
      "|    |                        |    1.29751488e-02  3.93646237e-02  3.94701625e-02  1.19053443e-02 |                     |            |\n",
      "|    |                        |   -4.32759377e-02 -3.93088686e-02 -4.95161911e-03  2.96418870e-02 |                     |            |\n",
      "|    |                        |   -1.33305661e-02 -1.80401437e-03 -3.16992316e-02  1.12631808e-01 |                     |            |\n",
      "|    |                        |    2.20421051e-02  3.61316689e-02  3.04100988e-02  6.63790641e-02 |                     |            |\n",
      "|    |                        |    1.40475684e-02 -4.38649064e-03  2.26614328e-02 -1.58391716e-02 |                     |            |\n",
      "|    |                        |    2.46754727e-02  4.06676230e-02  5.34163900e-02  2.31369829e-02 |                     |            |\n",
      "|    |                        |    6.30752450e-02 -3.74890332e-02  4.19009277e-03  2.88209246e-02 |                     |            |\n",
      "|    |                        |   -1.17231531e-02  1.01758483e-02  2.94348349e-02 -5.83695237e-03 |                     |            |\n",
      "|    |                        |    3.75865163e-02  1.01192238e-01 -6.41809884e-03  3.05296071e-02 |                     |            |\n",
      "|    |                        |    3.23337396e-02  5.47329771e-02  4.50303356e-02  3.88048058e-02 |                     |            |\n",
      "|    |                        |    1.97886734e-02  5.45099448e-02  4.90302352e-02  6.62718401e-02 |                     |            |\n",
      "|    |                        |   -4.14097586e-03  6.56372832e-02  1.70441835e-02  1.05010131e-01 |                     |            |\n",
      "|    |                        |    6.73324075e-04  8.78789920e-03  7.83570271e-02  5.45437526e-02 |                     |            |\n",
      "|    |                        |    5.45328368e-02  1.17413717e-03 -1.77690095e-02  3.69204208e-02 |                     |            |\n",
      "|    |                        |    4.06273502e-02  3.65705922e-02  4.55889223e-02  5.55421773e-02 |                     |            |\n",
      "|    |                        |    5.11040063e-02  5.59062425e-02  4.72950866e-03 -3.31250204e-02 |                     |            |\n",
      "|    |                        |    9.08370057e-02  1.67699146e-02  1.39930578e-02 -3.62818391e-02 |                     |            |\n",
      "|    |                        |    3.95424993e-02  3.56791435e-02 -1.18404379e-02  1.47325591e-03 |                     |            |\n",
      "|    |                        |    6.58669571e-02  2.89734546e-02  4.32740662e-02  8.49772936e-02 |                     |            |\n",
      "|    |                        |    2.62794742e-02  2.69587990e-02  5.65455582e-02  3.86332035e-02 |                     |            |\n",
      "|    |                        |    2.57514247e-02  2.61476314e-02  9.89189894e-03  1.18349235e-02 |                     |            |\n",
      "|    |                        |    3.48539803e-02  1.22834930e-02  3.31767384e-02  9.27856570e-02 |                     |            |\n",
      "|    |                        |    4.03728750e-02 -4.14343754e-02  4.37345907e-02  3.15905726e-02 |                     |            |\n",
      "|    |                        |   -4.31948210e-03  6.79419467e-02  5.94356714e-02 -7.35311833e-03 |                     |            |\n",
      "|    |                        |    1.73565299e-03  4.17281461e-02  2.71677425e-02 -8.56202710e-03 |                     |            |\n",
      "|    |                        |    5.25642423e-02  4.32504529e-02  9.04521254e-02  4.32459950e-02 |                     |            |\n",
      "|    |                        |    1.70252059e-02  2.17073103e-02 -6.35786619e-03  4.93085241e-02 |                     |            |\n",
      "|    |                        |   -6.11552112e-04  5.48763955e-02 -9.50671724e-03  3.43729232e-02 |                     |            |\n",
      "|    |                        |    1.90422745e-03 -7.10124216e-03  2.12551995e-02  4.49133466e-02 |                     |            |\n",
      "|    |                        |    8.93859994e-02 -2.94442865e-02  6.87632182e-02  2.67978072e-02 |                     |            |\n",
      "|    |                        |   -3.20107833e-02  8.21907364e-02  8.16328900e-02  2.32529274e-02 |                     |            |\n",
      "|    |                        |   -6.00765116e-02  4.83906537e-02  3.25958544e-02  6.25054821e-02 |                     |            |\n",
      "|    |                        |   3.75185270e-02  3.67453802e-02  4.66285254e-02  1.71805580e-02] |                     |            |\n",
      "+----+------------------------+-------------------------------------------------------------------+---------------------+------------+\n"
     ]
    }
   ],
   "source": [
    "pgd(x)"
   ]
  },
  {
   "cell_type": "code",
   "execution_count": null,
   "metadata": {
    "pycharm": {
     "name": "#%%\n"
    }
   },
   "outputs": [],
   "source": []
  }
 ],
 "metadata": {
  "kernelspec": {
   "display_name": "Python 3.8.8 ('base')",
   "language": "python",
   "name": "python3"
  },
  "language_info": {
   "codemirror_mode": {
    "name": "ipython",
    "version": 3
   },
   "file_extension": ".py",
   "mimetype": "text/x-python",
   "name": "python",
   "nbconvert_exporter": "python",
   "pygments_lexer": "ipython3",
   "version": "3.8.8"
  },
  "orig_nbformat": 4,
  "vscode": {
   "interpreter": {
    "hash": "ad2bdc8ecc057115af97d19610ffacc2b4e99fae6737bb82f5d7fb13d2f2c186"
   }
  }
 },
 "nbformat": 4,
 "nbformat_minor": 2
}
